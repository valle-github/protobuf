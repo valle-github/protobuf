{
 "cells": [
  {
   "cell_type": "code",
   "execution_count": 1,
   "id": "1be6015d",
   "metadata": {},
   "outputs": [],
   "source": [
    "# first make sure you've created a virtual environment and installed the requirements.txt\n",
    "# ( python -m venv venv && source venv/bin/activate && pip install -r requirements.txt )"
   ]
  },
  {
   "cell_type": "code",
   "execution_count": 2,
   "id": "2d9ca485",
   "metadata": {
    "scrolled": true
   },
   "outputs": [],
   "source": [
    "# now let's create a new proto-file, this defines the schema of the messages we want to send.\n",
    "import os\n",
    "\n",
    "f = open(\"car.proto\", \"x\")\n",
    "\n",
    "#fill it with your messages, in our case 2 mesages Car (message with one car) & Cars (message with multiple cars).\n",
    "f.write(\"\"\"\n",
    "syntax = \"proto3\";\n",
    "\n",
    "// the numbers are the ORDER the values will be sent using this protocoll buffer, must specified!\n",
    "message Car {\n",
    "    string brand = 1;\n",
    "    string model = 2;\n",
    "    int32 manufacturing_year = 3;\n",
    "}\n",
    "\n",
    "// A new message built for when we want to send multiple cars and not just one\n",
    "message Cars {\n",
    "    // reapeated= multiple values type\n",
    "    // Car      = the message we want to repeat\n",
    "    // cars     = the name of the variable in this message\n",
    "    // 1        = the order of the variable in this message\n",
    "    repeated Car cars = 1;\n",
    "}\n",
    "\"\"\")\n",
    "        \n",
    "f.close()"
   ]
  },
  {
   "cell_type": "code",
   "execution_count": 3,
   "id": "d87173df",
   "metadata": {},
   "outputs": [],
   "source": [
    "# then we will use this file as input to the protobuf compiler \"protoc\" (installed from grpc_tools)\n",
    "# to generate a python file that we will import as a moduel and use to construct our messages\n",
    "\n",
    "! python -m grpc_tools.protoc --proto_path=. --python_out=. ./car.proto"
   ]
  },
  {
   "cell_type": "code",
   "execution_count": 4,
   "id": "3134d107",
   "metadata": {},
   "outputs": [],
   "source": [
    "# Looking at the generated file 'car_pb2.py' we see no classes but only descriptors\n",
    "# Python is a exception where other languanges get classes Pythons are generated in run time\n",
    "# https://protobuf.dev/getting-started/pythontutorial/#protobuf-api :\n",
    "# \"\n",
    "# Unlike when you generate Java and C++ protocol buffer code, the Python protocol buffer compiler doesn’t generate your data access code for you directly.\n",
    "# Instead (as you’ll see if you look at your_file.py) it generates special descriptors for all your messages, enums, and fields,\n",
    "# and some mysteriously empty classes, one for each message type\n",
    "# \""
   ]
  },
  {
   "cell_type": "code",
   "execution_count": 5,
   "id": "6d43f10c",
   "metadata": {},
   "outputs": [],
   "source": [
    "# now we'll import the pythonfile car_pb2 and construct our messages\n",
    "import car_pb2\n",
    "\n",
    "car1 = car_pb2.Car()\n",
    "car1.brand = \"Toyota\"\n",
    "car1.model = \"Camry\"\n",
    "car1.manufacturing_year = 2022\n",
    "\n",
    "car2 = car_pb2.Car()\n",
    "car2.brand = \"Saab\" # :)\n",
    "car2.model = \"900\"\n",
    "car2.manufacturing_year = 1987\n",
    "\n",
    "cars = car_pb2.Cars()\n",
    "cars.cars.extend([car1, car2])\n"
   ]
  },
  {
   "cell_type": "code",
   "execution_count": 11,
   "id": "814935cb",
   "metadata": {},
   "outputs": [],
   "source": [
    "# let's write our messages into two files, as a binary and as a json to compare the sizes of the data.\n",
    "\n",
    "with open(\"messages.pb\", \"wb\") as f:\n",
    "    # our protobuf messages in it's binary output \n",
    "    f.write(cars.SerializeToString())\n",
    "\n",
    "with open(\"messages.json\", \"x\") as f:\n",
    "    # our protobuf messages as string resembling json\n",
    "    f.write(str(cars))"
   ]
  },
  {
   "cell_type": "code",
   "execution_count": 12,
   "id": "c6a87f10",
   "metadata": {},
   "outputs": [
    {
     "name": "stdout",
     "output_type": "stream",
     "text": [
      "total 64\r\n",
      "-rw-r--r--  1 valdemarfinta  staff   1.6K Jun 12 16:05 README.md\r\n",
      "drwxr-xr-x  3 valdemarfinta  staff    96B Jun 12 16:06 \u001b[34m__pycache__\u001b[m\u001b[m\r\n",
      "-rw-r--r--  1 valdemarfinta  staff   543B Jun 12 16:05 car.proto\r\n",
      "-rw-r--r--  1 valdemarfinta  staff   1.1K Jun 12 16:05 car_pb2.py\r\n",
      "-rw-r--r--  1 valdemarfinta  staff   6.6K Jun 12 16:08 main.ipynb\r\n",
      "-rw-r--r--  1 valdemarfinta  staff   138B Jun 12 16:09 messages.json\r\n",
      "-rw-r--r--  1 valdemarfinta  staff    36B Jun 12 16:09 messages.pb\r\n",
      "-rw-r--r--  1 valdemarfinta  staff    36B Jun 12 16:08 requirements.txt\r\n",
      "drwxr-xr-x  8 valdemarfinta  staff   256B Jun 12 16:01 \u001b[34mvenv\u001b[m\u001b[m\r\n"
     ]
    }
   ],
   "source": [
    "#then let' use a CLI command to list all files and see their size\n",
    "\n",
    "! ls -lh\n",
    "\n",
    "# WOW 136B vs 36B! that's a quater the size!!"
   ]
  },
  {
   "cell_type": "code",
   "execution_count": null,
   "id": "acbf3e9f",
   "metadata": {},
   "outputs": [],
   "source": []
  }
 ],
 "metadata": {
  "kernelspec": {
   "display_name": "Python (venv)",
   "language": "python",
   "name": "venv"
  },
  "language_info": {
   "codemirror_mode": {
    "name": "ipython",
    "version": 3
   },
   "file_extension": ".py",
   "mimetype": "text/x-python",
   "name": "python",
   "nbconvert_exporter": "python",
   "pygments_lexer": "ipython3",
   "version": "3.11.3"
  }
 },
 "nbformat": 4,
 "nbformat_minor": 5
}
